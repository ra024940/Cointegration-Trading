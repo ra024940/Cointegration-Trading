{
 "cells": [
  {
   "cell_type": "code",
   "execution_count": 65,
   "metadata": {},
   "outputs": [],
   "source": [
    "import pandas as pd                               # panda\n",
    "import pandas_datareader as pdr                   # Baixar dados yahoo\n",
    "import numpy as np\n",
    "#!pip install MetaTrader5\n",
    "#!pip install --upgrade MetaTrader5\n",
    "import MetaTrader5 as mt5\n",
    "from datetime import datetime\n",
    "from datetime import date\n",
    "import time\n",
    "%matplotlib inline"
   ]
  },
  {
   "cell_type": "code",
   "execution_count": 94,
   "metadata": {},
   "outputs": [],
   "source": [
    "# Checa se ja estamos conectados, se não, conecta\n",
    "if (mt5.terminal_info()==None):\n",
    "\n",
    "    # conecte-se ao MetaTrader 5\n",
    "    if not mt5.initialize():\n",
    "        print(\"initialize() failed, error code =\",mt5.last_error())\n",
    "        mt5.shutdown()\n",
    "        \n",
    "timezone = pytz.timezone(\"Etc/UTC\")        \n",
    "dt_inicio = datetime(2015, 1, 2, tzinfo=timezone)\n",
    "dt_fim = datetime(2020, 7, 31, tzinfo=timezone)\n",
    "timeframe = mt5.TIMEFRAME_D1\n",
    "\n",
    "\n",
    "# obtendo o par de acoes com base nas datas enviadas nas strings, definindo o timezone para nao interfir com o tisp do mt5\n",
    "stock = mt5.copy_rates_range('PETR4', timeframe, dt_inicio, dt_fim)\n",
    "stock_df = pd.DataFrame(stock)[['close','time']]\n",
    "# concluímos a conexão ao MetaTrader 5\n",
    "#mt5.shutdown()\n",
    "\n",
    "stock_df['Date'] = stock_df['time'].apply(lambda x: str(date.fromtimestamp(x+21600))) #adicionando 21600 pra corrigir o fuso no momento de converter tsp em str\n",
    "stock_df.drop('time',axis=1,inplace = True)\n",
    "stock_df.drop('close',axis=1,inplace = True)\n",
    "stock_df.set_index('Date')\n",
    "\n",
    "#Nao adianta ele coloca a merda da coluna index do mesmo jeito\n",
    "stock_df['Date'].to_excel('Calendar.xlsx')\n",
    "\n",
    "#x = stock_df['Date']\n",
    "#y = x.value_counts()\n",
    "#y.sort_values() Nenhum dia se repete"
   ]
  },
  {
   "cell_type": "code",
   "execution_count": 91,
   "metadata": {},
   "outputs": [],
   "source": [
    "def ajusta_B3Date (data_start, qtde_dias):\n",
    "    \n",
    "    df = pd.read_excel('Calendar.xlsx')\n",
    "    df['Date'] = df['Date'].apply(str)\n",
    "    index = df [df['Date'] == data_start].index.values.astype(int)[0]\n",
    "    data_fim = df.iloc[index+qtde_dias][1]\n",
    "    \n",
    "    return data_fim"
   ]
  },
  {
   "cell_type": "code",
   "execution_count": 92,
   "metadata": {},
   "outputs": [],
   "source": [
    "end_time = ajusta_B3Date('2020-07-17',5)"
   ]
  },
  {
   "cell_type": "code",
   "execution_count": 93,
   "metadata": {},
   "outputs": [
    {
     "data": {
      "text/plain": [
       "'2020-07-24'"
      ]
     },
     "execution_count": 93,
     "metadata": {},
     "output_type": "execute_result"
    }
   ],
   "source": [
    "end_time"
   ]
  },
  {
   "cell_type": "code",
   "execution_count": null,
   "metadata": {},
   "outputs": [],
   "source": []
  }
 ],
 "metadata": {
  "kernelspec": {
   "display_name": "Python 3",
   "language": "python",
   "name": "python3"
  },
  "language_info": {
   "codemirror_mode": {
    "name": "ipython",
    "version": 3
   },
   "file_extension": ".py",
   "mimetype": "text/x-python",
   "name": "python",
   "nbconvert_exporter": "python",
   "pygments_lexer": "ipython3",
   "version": "3.7.6"
  }
 },
 "nbformat": 4,
 "nbformat_minor": 4
}
