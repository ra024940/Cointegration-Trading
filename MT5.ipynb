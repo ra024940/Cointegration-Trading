{
 "cells": [
  {
   "cell_type": "code",
   "execution_count": 136,
   "metadata": {},
   "outputs": [],
   "source": [
    "import MetaTrader5 as mt5\n",
    "from datetime import datetime\n",
    "import time\n",
    "import pytz\n",
    "import pandas as pd"
   ]
  },
  {
   "cell_type": "code",
   "execution_count": 137,
   "metadata": {},
   "outputs": [],
   "source": [
    "def Mt5_dados(tickers,inicio,fim):\n",
    "\n",
    "    # conecte-se ao MetaTrader 5\n",
    "    if not mt5.initialize():\n",
    "        print(\"initialize() failed\")\n",
    "        mt5.shutdown()\n",
    "    else:\n",
    "        # consulta o estado e os parâmetros de conexão\n",
    "        print(mt5.terminal_info())\n",
    "    \n",
    "        #quebra as strings dates(inicio,fim) recebidas e transformando em integer\n",
    "        inicio_= inicio.split('-')\n",
    "        inicio = [int(element) for element in inicio_]\n",
    "        fim_= fim.split('-')\n",
    "        fim = [int(element) for element in fim_]\n",
    "\n",
    "        timezone = pytz.timezone(\"Etc/UTC\")\n",
    "\n",
    "        # obtendo o par de acoes com base nas datas enviadas nas strings, definindo o timezone para nao interfir com o tisp do mt5\n",
    "        stock1 = mt5.copy_rates_range(tickers[0], mt5.TIMEFRAME_D1, datetime(inicio[0],inicio[1],inicio[2],tzinfo=timezone),datetime(fim[0],fim[1],fim[2]))\n",
    "        stock2 = mt5.copy_rates_range(tickers[1], mt5.TIMEFRAME_D1, datetime(inicio[0],inicio[1],inicio[2],tzinfo=timezone),datetime(fim[0],fim[1],fim[2]))\n",
    "        # concluímos a conexão ao MetaTrader 5\n",
    "        mt5.shutdown()\n",
    "\n",
    "        esquerda = pd.DataFrame(stock1)[['close','time']].rename(columns={'close': tickers[0]})\n",
    "        direita = pd.DataFrame(stock2)[['close','time']].rename(columns={'close': tickers[1]})\n",
    "\n",
    "        stock_df = pd.merge(left=esquerda, right=direita, left_on='time', right_on='time')\n",
    "        stock_df['Date'] = stock_df['time'].apply(lambda x: date.fromtimestamp(x+21600)) #adicionando 21600 pra corrigir o fuso no momento de converter tsp em str\n",
    "        stock_df.drop('time',axis=1,inplace = True)\n",
    "\n",
    "    return stock_df.set_index('Date')"
   ]
  },
  {
   "cell_type": "code",
   "execution_count": 138,
   "metadata": {},
   "outputs": [
    {
     "name": "stdout",
     "output_type": "stream",
     "text": [
      "TerminalInfo(community_account=False, community_connection=False, connected=True, dlls_allowed=False, trade_allowed=False, tradeapi_disabled=False, email_enabled=False, ftp_enabled=False, notifications_enabled=False, mqid=False, build=2560, maxbars=100000, codepage=1252, ping_last=11139, community_balance=0.0, retransmission=0.20934783598052153, company='Rico (XP Investimentos CCTVM)', name='Rico - MetaTrader 5', language='Portuguese (Brazil)', path='C:\\\\Program Files\\\\Rico - MetaTrader 5', ...)\n"
     ]
    }
   ],
   "source": [
    "tickers = ['ITSA4', 'GOLL4'];\n",
    "par = Mt5_dados(tickers,'2019-1-2','2020-7-27')"
   ]
  },
  {
   "cell_type": "code",
   "execution_count": 139,
   "metadata": {
    "scrolled": false
   },
   "outputs": [
    {
     "data": {
      "text/html": [
       "<div>\n",
       "<style scoped>\n",
       "    .dataframe tbody tr th:only-of-type {\n",
       "        vertical-align: middle;\n",
       "    }\n",
       "\n",
       "    .dataframe tbody tr th {\n",
       "        vertical-align: top;\n",
       "    }\n",
       "\n",
       "    .dataframe thead th {\n",
       "        text-align: right;\n",
       "    }\n",
       "</style>\n",
       "<table border=\"1\" class=\"dataframe\">\n",
       "  <thead>\n",
       "    <tr style=\"text-align: right;\">\n",
       "      <th></th>\n",
       "      <th>ITSA4</th>\n",
       "      <th>GOLL4</th>\n",
       "    </tr>\n",
       "    <tr>\n",
       "      <th>Date</th>\n",
       "      <th></th>\n",
       "      <th></th>\n",
       "    </tr>\n",
       "  </thead>\n",
       "  <tbody>\n",
       "    <tr>\n",
       "      <th>2019-01-02</th>\n",
       "      <td>11.18</td>\n",
       "      <td>25.54</td>\n",
       "    </tr>\n",
       "    <tr>\n",
       "      <th>2019-01-03</th>\n",
       "      <td>11.28</td>\n",
       "      <td>25.72</td>\n",
       "    </tr>\n",
       "    <tr>\n",
       "      <th>2019-01-04</th>\n",
       "      <td>11.24</td>\n",
       "      <td>25.09</td>\n",
       "    </tr>\n",
       "    <tr>\n",
       "      <th>2019-01-07</th>\n",
       "      <td>11.23</td>\n",
       "      <td>23.99</td>\n",
       "    </tr>\n",
       "    <tr>\n",
       "      <th>2019-01-08</th>\n",
       "      <td>11.38</td>\n",
       "      <td>23.67</td>\n",
       "    </tr>\n",
       "    <tr>\n",
       "      <th>...</th>\n",
       "      <td>...</td>\n",
       "      <td>...</td>\n",
       "    </tr>\n",
       "    <tr>\n",
       "      <th>2020-07-21</th>\n",
       "      <td>10.52</td>\n",
       "      <td>20.66</td>\n",
       "    </tr>\n",
       "    <tr>\n",
       "      <th>2020-07-22</th>\n",
       "      <td>10.52</td>\n",
       "      <td>20.00</td>\n",
       "    </tr>\n",
       "    <tr>\n",
       "      <th>2020-07-23</th>\n",
       "      <td>10.37</td>\n",
       "      <td>19.10</td>\n",
       "    </tr>\n",
       "    <tr>\n",
       "      <th>2020-07-24</th>\n",
       "      <td>10.45</td>\n",
       "      <td>18.84</td>\n",
       "    </tr>\n",
       "    <tr>\n",
       "      <th>2020-07-27</th>\n",
       "      <td>11.02</td>\n",
       "      <td>18.52</td>\n",
       "    </tr>\n",
       "  </tbody>\n",
       "</table>\n",
       "<p>390 rows × 2 columns</p>\n",
       "</div>"
      ],
      "text/plain": [
       "            ITSA4  GOLL4\n",
       "Date                    \n",
       "2019-01-02  11.18  25.54\n",
       "2019-01-03  11.28  25.72\n",
       "2019-01-04  11.24  25.09\n",
       "2019-01-07  11.23  23.99\n",
       "2019-01-08  11.38  23.67\n",
       "...           ...    ...\n",
       "2020-07-21  10.52  20.66\n",
       "2020-07-22  10.52  20.00\n",
       "2020-07-23  10.37  19.10\n",
       "2020-07-24  10.45  18.84\n",
       "2020-07-27  11.02  18.52\n",
       "\n",
       "[390 rows x 2 columns]"
      ]
     },
     "execution_count": 139,
     "metadata": {},
     "output_type": "execute_result"
    }
   ],
   "source": [
    "par"
   ]
  },
  {
   "cell_type": "code",
   "execution_count": null,
   "metadata": {},
   "outputs": [],
   "source": []
  }
 ],
 "metadata": {
  "kernelspec": {
   "display_name": "Python 3",
   "language": "python",
   "name": "python3"
  },
  "language_info": {
   "codemirror_mode": {
    "name": "ipython",
    "version": 3
   },
   "file_extension": ".py",
   "mimetype": "text/x-python",
   "name": "python",
   "nbconvert_exporter": "python",
   "pygments_lexer": "ipython3",
   "version": "3.7.6"
  }
 },
 "nbformat": 4,
 "nbformat_minor": 4
}
