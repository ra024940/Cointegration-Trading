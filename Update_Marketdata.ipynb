{
 "cells": [
  {
   "cell_type": "markdown",
   "metadata": {},
   "source": [
    "### Atualização do market data e da base de informações"
   ]
  },
  {
   "cell_type": "code",
   "execution_count": 1,
   "metadata": {},
   "outputs": [
    {
     "name": "stderr",
     "output_type": "stream",
     "text": [
      "C:\\Users\\paiva\\anaconda3\\lib\\site-packages\\pandas_datareader\\compat\\__init__.py:7: FutureWarning: pandas.util.testing is deprecated. Use the functions in the public API at pandas.testing instead.\n",
      "  from pandas.util.testing import assert_frame_equal\n"
     ]
    }
   ],
   "source": [
    "import pandas as pd                               # panda\n",
    "import pandas_datareader as pdr                   # Baixar dados yahoo\n",
    "import numpy as np\n",
    "\n",
    "import MetaTrader5 as mt5\n",
    "from datetime import datetime\n",
    "from datetime import date\n",
    "import pytz\n",
    "\n",
    "import sqlite3 as sql\n"
   ]
  },
  {
   "cell_type": "code",
   "execution_count": 16,
   "metadata": {},
   "outputs": [],
   "source": [
    "##################################\n",
    "## FUNCOES PARA BAIXAR MKT DATA ##\n",
    "##################################\n",
    "\n",
    "### BAIXAR DADOS DO MT5\n",
    "def getData_mt5(tickers,inicio,fim):\n",
    "\n",
    "    # Checa se ja estamos conectados, se não, conecta\n",
    "    if (mt5.terminal_info()==None):\n",
    "          \n",
    "        if not mt5.initialize('C:\\\\Program Files\\\\ModalMais MetaTrader 5\\\\terminal64.exe', \n",
    "                              server='Rico-Demo', login=3000265192, password=\"Wa6duJy3\"):\n",
    "            print(\"initialize() failed, error code =\",mt5.last_error())\n",
    "            mt5.shutdown()\n",
    "        \n",
    "    #quebra as strings dates(inicio,fim) recebidas e transformando em integer\n",
    "    inicio_  = inicio.split('-')\n",
    "    inicio   = [int(element) for element in inicio_]\n",
    "    fim_     = fim.split('-')\n",
    "    fim      = [int(element) for element in fim_]\n",
    "\n",
    "    timezone = pytz.timezone(\"Etc/UTC\")\n",
    "\n",
    "    stocks = pd.DataFrame()\n",
    "\n",
    "    # obtendo o par de acoes com base nas datas enviadas nas strings, definindo o timezone para nao interfir com o tisp do mt5\n",
    "    for ativo in tickers:\n",
    "        stock = mt5.copy_rates_range(ativo, mt5.TIMEFRAME_D1, datetime(inicio[0],inicio[1],inicio[2],tzinfo=timezone),\n",
    "                                     datetime(fim[0],fim[1],fim[2]))\n",
    "        stock_df = pd.DataFrame(stock) # Transforma o output em DataFrame\n",
    "        stock_df['ativo']=ativo        # Adiciona a coluna \"Ativo\" com o nome do ativo atual\n",
    " \n",
    "        # Gera o df \"stocks\" acumulando os retornos de todos os ativos\n",
    "        if len(stocks)>0:  \n",
    "            stocks = pd.concat([stocks, stock_df]).reset_index(drop=True)\n",
    "        else:\n",
    "            stocks = stock_df\n",
    "    \n",
    "    # Tratamento da base acumulada para ter as colunas [ativo, date, open, high, low, close, volume]\n",
    "    stocks['date'] = stocks['time'].apply(lambda x: date.fromtimestamp(x+21600)) #21600 pra corrigir o fuso no momento de converter tsp em str\n",
    "    stocks.drop('time',axis=1,inplace = True)\n",
    "    stocks.drop('tick_volume',axis=1,inplace = True)\n",
    "    stocks.drop('spread',axis=1,inplace = True)\n",
    "    stocks = stocks[['ativo','date','open','high','low','close','real_volume']]\n",
    "    stocks.rename(columns={'real_volume':'volume'}, inplace=True)\n",
    "    \n",
    "    # fecha a conexão ao MetaTrader 5\n",
    "    mt5.shutdown()\n",
    "\n",
    "    return stocks\n",
    "\n",
    "############################################\n",
    "## FUNCOES RELACIONADAS AO BANCO DE DADOS ##\n",
    "############################################\n",
    "\n",
    "# Conectar no DB do SQLITE3\n",
    "def connect(db):\n",
    "\n",
    "    sqlite3_conn = None\n",
    "\n",
    "    try:\n",
    "        sqlite3_conn = sql.connect(db)\n",
    "        return sqlite3_conn\n",
    "\n",
    "    except sql.Error as err:\n",
    "        print(err)\n",
    "\n",
    "        if sqlite3_conn is not None:\n",
    "            sqlite3_conn.close()\n",
    "            \n",
    "# Deletar tabela\n",
    "def delete_table(db,table):\n",
    "\n",
    "    try: \n",
    "\n",
    "        # Conecta ao Banco de Dados\n",
    "        connection = connect(db)\n",
    "        c = connection.cursor()\n",
    "\n",
    "        c.execute(\"DROP TABLE ? \", table)\n",
    "\n",
    "        connection.commit()\n",
    "        connection.close()\n",
    "\n",
    "    except sql.Error as e:\n",
    "        print(e)\n",
    "\n",
    "    finally:\n",
    "        connection.close()\n"
   ]
  },
  {
   "cell_type": "code",
   "execution_count": null,
   "metadata": {},
   "outputs": [],
   "source": [
    "##########################################\n",
    "## Atualizar a tabela TBL_MARKETDATA_1D ##\n",
    "##########################################\n",
    "['ABEV3','AZUL4','B3SA3','BBAS3','BBDC3','BBDC4','BBSE3','BEEF3','BPAC11','BRAP4','BRDT3','BRFS3','BRKM5','BRML3','BTOW3']\n",
    "tickers_ibov = ['CCRO3','CIEL3','CMIG4','COGN3','CPFE3','CRFB3','CSAN3','CSNA3','CVCB3','CYRE3','ECOR3','EGIE3','ELET3','ELET6','EMBR3']\n",
    "\n",
    "#                 'ENBR3','ENGI11','EQTL3','FLRY3','GGBR4','GNDI3','GOAU4','GOLL4','HAPV3','HGTX3','HYPE3','IGTA3','IRBR3','ITSA4','ITUB4',\n",
    "#                 'JBSS3','KLBN11','LAME4','LREN3','MGLU3','MRFG3','MRVE3','MULT3','NTCO3','PCAR3','PETR3','PETR4','QUAL3','RADL3','RAIL3',\n",
    "#                 'RENT3','SANB11','SBSP3','SULA11','SUZB3','TAEE11','TIMP3','TOTS3','UGPA3','USIM5','VALE3','VIVT4','VVAR3','WEGE3','YDUQ3']\n",
    "\n",
    "\n",
    "stocks = getData_mt5(tickers_ibov, '2018-1-1','2020-7-30')\n",
    "\n",
    "print('Dados obtidos do mt5')\n",
    "print(stocks)\n",
    "\n",
    "try:\n",
    "\n",
    "    # Conecta ao Banco de Dados\n",
    "    connection = connect('db_market.dblite')\n",
    "    c = connection.cursor()\n",
    "\n",
    "    # Criando a tabela caso ela ainda tenha sido criada\n",
    "    c.execute(\"\"\" CREATE TABLE IF NOT EXISTS tbl_marketdata_1d ( \n",
    "               id     INTEGER NOT NULL PRIMARY KEY AUTOINCREMENT,\n",
    "               ativo  TEXT NOT NULL, \n",
    "               date   TEXT NOT NULL, \n",
    "               open   INTEGER NOT NULL,  \n",
    "               high   INTEGER NOT NULL,  \n",
    "               low    INTEGER NOT NULL,  \n",
    "               close  INTEGER NOT NULL,  \n",
    "               volume INTEGER); \"\"\")\n",
    "    \n",
    "\n",
    "    # Primeiramente, mostra os ultimos regitros da tabela tbl_market_data_1d\n",
    "    # para revisar a data da base que será appendada nela\n",
    "    df = pd.read_sql_query(\"\"\"SELECT * FROM tbl_marketdata_1d \n",
    "                           ORDER BY id \n",
    "                           DESC limit 5;\"\"\", connection)\n",
    "\n",
    "    print(\"Ultimos registros que ja haviam na tabela tbl_market_data_1d\")\n",
    "    print(df)\n",
    "\n",
    "    continuar = input('continuar?')  # \"sim\" para continuar e appendar, ou qualquer outra coisa pra sair\n",
    "\n",
    "    if (continuar == \"sim\"):\n",
    "        # Inserir dados do DataFrame stock para a tabea tbl_marketdata_1d\n",
    "        stocks.to_sql(name='tbl_marketdata_1d', con=connection, if_exists='append', index=False)\n",
    "\n",
    "    connection.commit()\n",
    "    connection.close()\n",
    "\n",
    "except sql.Error as e:\n",
    "    print(e)\n",
    "\n",
    "finally:\n",
    "    connection.close()\n"
   ]
  },
  {
   "cell_type": "code",
   "execution_count": 3,
   "metadata": {},
   "outputs": [
    {
     "name": "stdout",
     "output_type": "stream",
     "text": [
      "   codigo          acao      tipo  qtd_teorica  participacao quarter\n",
      "0   ABEV3     AMBEV S/A        ON   4354228928         3.395  2Q2020\n",
      "1   AZUL4          AZUL     PN N2    317471474         0.380  2Q2020\n",
      "2   B3SA3            B3     ON NM   2046021644         5.405  2Q2020\n",
      "3   BBAS3        BRASIL     ON NM   1418466803         2.780  2Q2020\n",
      "4   BBDC3      BRADESCO     ON N1   1253093907         1.513  2Q2020\n",
      "..    ...           ...       ...          ...           ...     ...\n",
      "70  VALE3          VALE     ON NM   3292010807        10.155  2Q2020\n",
      "71  VIVT4  TELEF BRASIL        PN    415131868         1.303  2Q2020\n",
      "72  VVAR3     VIAVAREJO     ON NM   1146662628         0.724  2Q2020\n",
      "73  WEGE3           WEG     ON NM    689271972         1.893  2Q2020\n",
      "74  YDUQ3    YDUQS PART  ON ED NM    299667897         0.625  2Q2020\n",
      "\n",
      "[75 rows x 6 columns]\n"
     ]
    }
   ],
   "source": [
    "############################################\n",
    "## Atualizar a tabela TBL_COMPOSICAO_IBOV ##\n",
    "############################################\n",
    "\n",
    "# Excel baixado do site da B3: http://www.b3.com.br/pt_br/market-data-e-indices/indices/indices-amplos/indice-ibovespa-ibovespa-composicao-da-carteira.htm\n",
    "comp_ibov = pd.read_excel(r\"C:\\Trading\\LongShort\\Banco de Dados\\Carteira_Teorica_IBOV\\2Q2020.xlsx\")\n",
    "\n",
    "comp_ibov['quarter'] = '2Q2020'\n",
    "\n",
    "print(comp_ibov)\n",
    "\n",
    "try: \n",
    "    # Conecta ao Banco de Dados\n",
    "    connection = connect('db_market.dblite')\n",
    "    c = connection.cursor()\n",
    "\n",
    "\n",
    "    # Criando a tabela caso ela ainda tenha sido criada\n",
    "    c.execute(\"\"\" CREATE TABLE IF NOT EXISTS tbl_composicao_ibov ( \n",
    "               id      INTEGER NOT NULL PRIMARY KEY AUTOINCREMENT,\n",
    "               quarter TEXT NOT NULL,    \n",
    "               codigo  TEXT NOT NULL, \n",
    "               acao    TEXT NOT NULL,  \n",
    "               tipo    TEXT NOT NULL,  \n",
    "               qtd_teorica   BIGINT NOT NULL,  \n",
    "               participacao  REAL NOT NULL); \"\"\")\n",
    "\n",
    "\n",
    "    # Salvar o DataFrame comp_ibov como uma tabela SQL (tbl_composicao_ibov)\n",
    "    comp_ibov.to_sql(name='tbl_composicao_ibov', con=connection, if_exists='append', index=False)\n",
    "\n",
    "    connection.commit()\n",
    "    connection.close()\n",
    "    \n",
    "except sql.Error as e:\n",
    "    print(e)\n",
    "\n",
    "finally:\n",
    "    connection.close()\n"
   ]
  },
  {
   "cell_type": "code",
   "execution_count": null,
   "metadata": {},
   "outputs": [],
   "source": []
  },
  {
   "cell_type": "code",
   "execution_count": null,
   "metadata": {},
   "outputs": [],
   "source": []
  },
  {
   "cell_type": "code",
   "execution_count": null,
   "metadata": {},
   "outputs": [],
   "source": [
    "df = pd.read_sql(\"select * from daily_flights\", conn)\n",
    "df[\"delay_minutes\"] = None\n",
    "df.to_sql(\"daily_flights\", conn, if_exists=\"replace\")\n",
    "\n",
    "- le o sql e salva em um dataframe\n",
    "- inclui uma coluna no DF\n",
    "- transforma o DF em uma tabela SQL\n"
   ]
  },
  {
   "cell_type": "code",
   "execution_count": 7,
   "metadata": {},
   "outputs": [
    {
     "name": "stdout",
     "output_type": "stream",
     "text": [
      "no such table: tbl_marketdata_1d\n"
     ]
    }
   ],
   "source": [
    "try: \n",
    "    \n",
    "    # Conecta ao Banco de Dados\n",
    "    connection = connect('db_market.dblite')\n",
    "    c = connection.cursor()\n",
    "\n",
    "\n",
    "    c.execute(\"\"\" DROP TABLE tbl_marketdata_1d \"\"\")\n",
    "\n",
    "    # Primeiramente, mostra os ultimos regitros da tabela tbl_market_data_1d\n",
    "    # para revisar a data da base que será appendada nela\n",
    "    df = pd.read_sql_query(\"\"\"SELECT * FROM tbl_marketdata_1d \n",
    "                           ORDER BY id \n",
    "                           DESC limit 5;\"\"\", connection)\n",
    "\n",
    "    connection.commit()\n",
    "    connection.close()\n",
    "\n",
    "    \n",
    "except sql.Error as e:\n",
    "    print(e)\n",
    "\n",
    "finally:\n",
    "    connection.close()\n"
   ]
  },
  {
   "cell_type": "code",
   "execution_count": 17,
   "metadata": {},
   "outputs": [
    {
     "name": "stdout",
     "output_type": "stream",
     "text": [
      "near \"?\": syntax error\n"
     ]
    }
   ],
   "source": [
    "delete_table('db_market.dblite','tbl_marketdata_1d')"
   ]
  },
  {
   "cell_type": "code",
   "execution_count": null,
   "metadata": {},
   "outputs": [],
   "source": []
  },
  {
   "cell_type": "code",
   "execution_count": null,
   "metadata": {},
   "outputs": [],
   "source": []
  }
 ],
 "metadata": {
  "kernelspec": {
   "display_name": "Python 3",
   "language": "python",
   "name": "python3"
  },
  "language_info": {
   "codemirror_mode": {
    "name": "ipython",
    "version": 3
   },
   "file_extension": ".py",
   "mimetype": "text/x-python",
   "name": "python",
   "nbconvert_exporter": "python",
   "pygments_lexer": "ipython3",
   "version": "3.7.6"
  }
 },
 "nbformat": 4,
 "nbformat_minor": 4
}
